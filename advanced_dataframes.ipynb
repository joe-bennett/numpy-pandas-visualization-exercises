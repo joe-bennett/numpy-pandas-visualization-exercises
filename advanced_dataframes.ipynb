{
 "cells": [
  {
   "cell_type": "code",
   "execution_count": 3,
   "metadata": {},
   "outputs": [],
   "source": [
    "import pandas as pd\n",
    "import env\n",
    "import numpy as np"
   ]
  },
  {
   "cell_type": "markdown",
   "metadata": {},
   "source": [
    "1. Run python -m pip install pymysql from your terminal to install the mysql client (any folder is fine)\n",
    "2. cd into your exercises folder for this module and run echo env.py >> .gitignore\n",
    "3. Create a function named get_db_url.\n",
    " It should accept a username, hostname, password, and database name and return a url connection string formatted like in the example at the start of this lesson.\n",
    "4. Use your function to obtain a connection to the employees database"
   ]
  },
  {
   "cell_type": "code",
   "execution_count": 4,
   "metadata": {},
   "outputs": [],
   "source": [
    "url = env.get_db_url('employees')\n"
   ]
  },
  {
   "cell_type": "markdown",
   "metadata": {},
   "source": [
    "5. Once you have successfully run a query:\n",
    "\n",
    "a. Intentionally make a typo in the database url. What kind of error message do you see?\n",
    "\n",
    "\n",
    "\n",
    "b. Intentionally make an error in your SQL query. What does the error message look like?"
   ]
  },
  {
   "cell_type": "markdown",
   "metadata": {},
   "source": [
    "6. Read the employees and titles tables into two separate DataFrames."
   ]
  },
  {
   "cell_type": "code",
   "execution_count": 15,
   "metadata": {},
   "outputs": [
    {
     "data": {
      "text/plain": [
       "(        emp_no  birth_date first_name last_name gender   hire_date\n",
       " 0        10001  1953-09-02     Georgi   Facello      M  1986-06-26\n",
       " 1        10002  1964-06-02    Bezalel    Simmel      F  1985-11-21\n",
       " 2        10003  1959-12-03      Parto   Bamford      M  1986-08-28\n",
       " 3        10004  1954-05-01  Chirstian   Koblick      M  1986-12-01\n",
       " 4        10005  1955-01-21    Kyoichi  Maliniak      M  1989-09-12\n",
       " ...        ...         ...        ...       ...    ...         ...\n",
       " 300019  499995  1958-09-24     Dekang  Lichtner      F  1993-01-12\n",
       " 300020  499996  1953-03-07       Zito      Baaz      M  1990-09-27\n",
       " 300021  499997  1961-08-03    Berhard    Lenart      M  1986-04-21\n",
       " 300022  499998  1956-09-05   Patricia   Breugel      M  1993-10-13\n",
       " 300023  499999  1958-05-01     Sachin   Tsukuda      M  1997-11-30\n",
       " \n",
       " [300024 rows x 6 columns],\n",
       "         emp_no            title   from_date     to_date\n",
       " 0        10001  Senior Engineer  1986-06-26  9999-01-01\n",
       " 1        10002            Staff  1996-08-03  9999-01-01\n",
       " 2        10003  Senior Engineer  1995-12-03  9999-01-01\n",
       " 3        10004         Engineer  1986-12-01  1995-12-01\n",
       " 4        10004  Senior Engineer  1995-12-01  9999-01-01\n",
       " ...        ...              ...         ...         ...\n",
       " 443303  499997         Engineer  1987-08-30  1992-08-29\n",
       " 443304  499997  Senior Engineer  1992-08-29  9999-01-01\n",
       " 443305  499998     Senior Staff  1998-12-27  9999-01-01\n",
       " 443306  499998            Staff  1993-12-27  1998-12-27\n",
       " 443307  499999         Engineer  1997-11-30  9999-01-01\n",
       " \n",
       " [443308 rows x 4 columns])"
      ]
     },
     "execution_count": 15,
     "metadata": {},
     "output_type": "execute_result"
    }
   ],
   "source": [
    "employees=pd.read_sql('SELECT * FROM employees', url)\n",
    "\n",
    "titles=pd.read_sql('SELECT * FROM titles', url)\n",
    "\n",
    "employees, titles\n",
    "\n"
   ]
  },
  {
   "cell_type": "markdown",
   "metadata": {},
   "source": [
    "7. How many rows and columns do you have in each DataFrame? Is that what you expected?\n",
    "\n",
    " employees\n",
    " [300024 rows x 6 columns]\n",
    "\n",
    " titles\n",
    " [443308 rows x 4 columns])\n",
    "\n"
   ]
  },
  {
   "cell_type": "markdown",
   "metadata": {},
   "source": [
    "8. Display the summary statistics for each DataFrame."
   ]
  },
  {
   "cell_type": "code",
   "execution_count": 18,
   "metadata": {},
   "outputs": [
    {
     "data": {
      "text/plain": [
       "(              emp_no\n",
       " count  300024.000000\n",
       " mean   253321.763392\n",
       " std    161828.235540\n",
       " min     10001.000000\n",
       " 25%     85006.750000\n",
       " 50%    249987.500000\n",
       " 75%    424993.250000\n",
       " max    499999.000000,\n",
       "               emp_no\n",
       " count  443308.000000\n",
       " mean   253075.034430\n",
       " std    161853.292613\n",
       " min     10001.000000\n",
       " 25%     84855.750000\n",
       " 50%    249847.500000\n",
       " 75%    424891.250000\n",
       " max    499999.000000)"
      ]
     },
     "execution_count": 18,
     "metadata": {},
     "output_type": "execute_result"
    }
   ],
   "source": [
    "employees.describe() , titles.describe()"
   ]
  },
  {
   "cell_type": "markdown",
   "metadata": {},
   "source": [
    "9. How many unique titles are in the titles DataFrame?"
   ]
  },
  {
   "cell_type": "code",
   "execution_count": 23,
   "metadata": {},
   "outputs": [
    {
     "data": {
      "text/plain": [
       "7"
      ]
     },
     "execution_count": 23,
     "metadata": {},
     "output_type": "execute_result"
    }
   ],
   "source": [
    "unique_title_query= '''SELECT title\n",
    "                    FROM titles \n",
    "                    GROUP BY title;'''\n",
    "\n",
    "\n",
    "unique_titles = pd.read_sql(unique_title_query, url)\n",
    "len(unique_titles)"
   ]
  },
  {
   "cell_type": "markdown",
   "metadata": {},
   "source": [
    "10. What is the oldest date in the to_date column?"
   ]
  },
  {
   "cell_type": "code",
   "execution_count": 35,
   "metadata": {},
   "outputs": [
    {
     "data": {
      "text/html": [
       "<div>\n",
       "<style scoped>\n",
       "    .dataframe tbody tr th:only-of-type {\n",
       "        vertical-align: middle;\n",
       "    }\n",
       "\n",
       "    .dataframe tbody tr th {\n",
       "        vertical-align: top;\n",
       "    }\n",
       "\n",
       "    .dataframe thead th {\n",
       "        text-align: right;\n",
       "    }\n",
       "</style>\n",
       "<table border=\"1\" class=\"dataframe\">\n",
       "  <thead>\n",
       "    <tr style=\"text-align: right;\">\n",
       "      <th></th>\n",
       "      <th>to_date</th>\n",
       "    </tr>\n",
       "  </thead>\n",
       "  <tbody>\n",
       "    <tr>\n",
       "      <th>0</th>\n",
       "      <td>1985-03-01</td>\n",
       "    </tr>\n",
       "  </tbody>\n",
       "</table>\n",
       "</div>"
      ],
      "text/plain": [
       "      to_date\n",
       "0  1985-03-01"
      ]
     },
     "execution_count": 35,
     "metadata": {},
     "output_type": "execute_result"
    }
   ],
   "source": [
    "oldest_to_date_query ='''SELECT to_date\n",
    "                        FROM titles\n",
    "                        ORDER BY to_date \n",
    "                        LIMIT 1;'''\n",
    "\n",
    "\n",
    "\n",
    "oldest_to_date= pd.read_sql(oldest_to_date_query,url)\n",
    "\n",
    "oldest_to_date"
   ]
  },
  {
   "cell_type": "markdown",
   "metadata": {},
   "source": [
    "11.  What is the most recent date in the to_date column?"
   ]
  },
  {
   "cell_type": "code",
   "execution_count": 36,
   "metadata": {},
   "outputs": [
    {
     "data": {
      "text/html": [
       "<div>\n",
       "<style scoped>\n",
       "    .dataframe tbody tr th:only-of-type {\n",
       "        vertical-align: middle;\n",
       "    }\n",
       "\n",
       "    .dataframe tbody tr th {\n",
       "        vertical-align: top;\n",
       "    }\n",
       "\n",
       "    .dataframe thead th {\n",
       "        text-align: right;\n",
       "    }\n",
       "</style>\n",
       "<table border=\"1\" class=\"dataframe\">\n",
       "  <thead>\n",
       "    <tr style=\"text-align: right;\">\n",
       "      <th></th>\n",
       "      <th>to_date</th>\n",
       "    </tr>\n",
       "  </thead>\n",
       "  <tbody>\n",
       "    <tr>\n",
       "      <th>0</th>\n",
       "      <td>9999-01-01</td>\n",
       "    </tr>\n",
       "  </tbody>\n",
       "</table>\n",
       "</div>"
      ],
      "text/plain": [
       "      to_date\n",
       "0  9999-01-01"
      ]
     },
     "execution_count": 36,
     "metadata": {},
     "output_type": "execute_result"
    }
   ],
   "source": [
    "most_recent_query ='''SELECT to_date\n",
    "                        FROM titles\n",
    "                        ORDER BY to_date DESC\n",
    "                        LIMIT 1;'''\n",
    "\n",
    "\n",
    "\n",
    "recent_to_date= pd.read_sql(most_recent_query,url)\n",
    "\n",
    "recent_to_date"
   ]
  },
  {
   "cell_type": "markdown",
   "metadata": {},
   "source": [
    "EXERCISES II\n",
    "\n",
    "1. Copy the users and roles DataFrames from the examples above."
   ]
  },
  {
   "cell_type": "code",
   "execution_count": null,
   "metadata": {},
   "outputs": [],
   "source": []
  }
 ],
 "metadata": {
  "kernelspec": {
   "display_name": "Python 3.9.12 ('base')",
   "language": "python",
   "name": "python3"
  },
  "language_info": {
   "codemirror_mode": {
    "name": "ipython",
    "version": 3
   },
   "file_extension": ".py",
   "mimetype": "text/x-python",
   "name": "python",
   "nbconvert_exporter": "python",
   "pygments_lexer": "ipython3",
   "version": "3.9.12"
  },
  "orig_nbformat": 4,
  "vscode": {
   "interpreter": {
    "hash": "38cca0c38332a56087b24af0bc80247f4fced29cb4f7f437d91dc159adec9c4e"
   }
  }
 },
 "nbformat": 4,
 "nbformat_minor": 2
}
